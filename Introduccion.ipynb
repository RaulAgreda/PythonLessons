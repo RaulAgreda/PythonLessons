{
 "cells": [
  {
   "cell_type": "markdown",
   "metadata": {},
   "source": [
    "# Introducción a python :D\n",
    "\n",
    "Vamos a ver las cosillas básicas primero empezaremos por las\n",
    "# Variables"
   ]
  },
  {
   "cell_type": "code",
   "execution_count": 3,
   "metadata": {},
   "outputs": [
    {
     "name": "stdout",
     "output_type": "stream",
     "text": [
      "Variables: 3 3.1415 hola mundo True\n",
      "Tipos de variables, entero=3, decimal=3.1415, cadena de texto=hola mundo, booleano=True\n"
     ]
    }
   ],
   "source": [
    "# Esto de aquí es un comentario, los cuales marcan una línea entera desde que se pone el hashtag\n",
    "# Primero veremos los tipos de datos que tenemos\n",
    "# Ten en cuenta que una variable no se puede declarar por sí sola, siempre tendrá que tener un valor inicial\n",
    "\n",
    "entero = 3 # int\n",
    "decimal = 3.1415 # float\n",
    "cadena = \"hola mundo\" # str\n",
    "booleano = True # bool\n",
    "\n",
    "# Se le puede cambiar el tipo a una variable, simplemente asignándole un valor diferente, pero está feo\n",
    "\n",
    "# Este es el print, se puede poner todas las variables que se quieran imprimir separados por ',' pero hay formas más bonitas\n",
    "print(\"Variables:\", entero, decimal, cadena, booleano)\n",
    "# La forma más chula que tiene Python para imprimir es el format\n",
    "# Se utiliza poniendo una f delante de un string, y entre llaves las variables que se quieran imprimir f\"Hola {nombre_variable}\"\n",
    "print(f\"Tipos de variables, entero={entero}, decimal={decimal}, cadena de texto={cadena}, booleano={booleano}\")"
   ]
  },
  {
   "cell_type": "code",
   "execution_count": null,
   "metadata": {},
   "outputs": [],
   "source": [
    "# Haz tus pruebas con este bloque de código\n",
    "\n"
   ]
  },
  {
   "cell_type": "markdown",
   "metadata": {},
   "source": [
    "# Condiciones\n",
    "\n",
    "Las condiciones son sencillas, tenemos los siguientes \n",
    "\n",
    "**Operadores de condición:**\n",
    "\n",
    "    * ==    Igual\n",
    "    * <     Menor que\n",
    "    * >     Mayor que\n",
    "    * <=    Menor o igual que\n",
    "    * >=    Mayor o igual que\n",
    "    * !=    Distinto de\n",
    "    * and   Si y solo si ambas condiciones son True el resultado es True\n",
    "    * or    Si al menos una de las condiciones es True el resultado es True\n",
    "    * not   Si la condición es True el resultado es False y viceversa\n",
    "    * in    Si el valor se encuentra en la lista el resultado es True"
   ]
  },
  {
   "cell_type": "code",
   "execution_count": 8,
   "metadata": {},
   "outputs": [
    {
     "name": "stdout",
     "output_type": "stream",
     "text": [
      "Falso\n",
      "Es igual\n",
      "Resultado: True\n",
      "Contrario: False\n"
     ]
    }
   ],
   "source": [
    "condicion = False\n",
    "\n",
    "if (condicion):\n",
    "    print(\"Verdadero\")\n",
    "else:\n",
    "    print(\"Falso\")\n",
    "\n",
    "numero = 3\n",
    "\n",
    "if (numero < 3):\n",
    "    print(\"Es menor\")\n",
    "elif (numero == 3):\n",
    "    print(\"Es igual\")\n",
    "else:\n",
    "    print(\"Es mayor\")\n",
    "\n",
    "# Cabe destacar que al usar un operador de condición, toma un valor booleano, por lo que se puede hacer lo siguiente\n",
    "resultado = numero == 3\n",
    "contrario = not resultado\n",
    "print(\"Resultado:\", resultado)\n",
    "print(\"Contrario:\", contrario)"
   ]
  },
  {
   "cell_type": "code",
   "execution_count": null,
   "metadata": {},
   "outputs": [],
   "source": [
    "# Juega un poco con este bloque de código, prueba a cambiar los valores de las variables y a cambiar los operadores de condición\n"
   ]
  },
  {
   "cell_type": "markdown",
   "metadata": {},
   "source": [
    "# Bucles\n",
    "\n",
    "Los bucles son sencillos, tenemos dos tipos de bucles:\n",
    "\n",
    "* for\n",
    "* while"
   ]
  },
  {
   "cell_type": "code",
   "execution_count": 12,
   "metadata": {},
   "outputs": [
    {
     "name": "stdout",
     "output_type": "stream",
     "text": [
      "Index: 0\n",
      "Index: 1\n",
      "Index: 2\n",
      "Index: 3\n",
      "Index: 4\n",
      "Index: 5\n",
      "Index: 6\n",
      "Index: 7\n",
      "Index: 8\n",
      "Index: 9\n",
      "i: 0\n",
      "i: 1\n",
      "i: 2\n",
      "i: 3\n",
      "i: 4\n",
      "i: 5\n",
      "i: 6\n",
      "i: 7\n",
      "i: 8\n",
      "i: 9\n",
      "range(0, 10)\n"
     ]
    }
   ],
   "source": [
    "# for es un bucle que se ejecuta un número determinado de veces, mientras que while se ejecuta mientras se cumpla una condición.\n",
    "index = 0\n",
    "n = 10\n",
    "\n",
    "while (index < n): \n",
    "    # Código a ejecutar mientras se cumpla la condición, si no se cumple se sale del bucle\n",
    "    print(\"Index:\", index)\n",
    "    index = index + 1 # Esto es lo mismo que index += 1\n",
    "\n",
    "for i in range(n):\n",
    "    # Código que se ejecuta n veces, siendo n el número de veces que se ejecuta el bucle\n",
    "    # i toma los valores del 0 al n-1 definido en el range\n",
    "    # range puede tomar los valores de inicio, fin y paso, siendo el paso opcional\n",
    "    # range(inicio, fin, paso)\n",
    "    # range(1, 10, 2) -> 1, 3, 5, 7, 9\n",
    "    # range(10) -> 0, 1, 2, 3, 4, 5, 6, 7, 8, 9\n",
    "    # range(5, 10) -> 1, 2, 3, 4, 5, 6, 7, 8, 9\n",
    "    print(\"i:\", i)\n",
    "\n"
   ]
  },
  {
   "cell_type": "code",
   "execution_count": null,
   "metadata": {},
   "outputs": [],
   "source": [
    "# Juega un poco con los bucles, por ejemplo\n",
    "# Haz un bucle for que imprime los números impares del 1 al 100\n",
    "\n",
    "# Haz un bucle while que imprima los números pares del 100 al 0\n"
   ]
  },
  {
   "cell_type": "markdown",
   "metadata": {},
   "source": [
    "# Listas"
   ]
  },
  {
   "cell_type": "code",
   "execution_count": 21,
   "metadata": {},
   "outputs": [
    {
     "name": "stdout",
     "output_type": "stream",
     "text": [
      "Longitud de dias_de_la_semana: 7\n",
      "Longitud de notas_de_clase: 4\n",
      "Primer día de la semana: Lunes\n",
      "Segundo día de la semana: Martes\n",
      "Último día de la semana: Domingo\n",
      "Día: Lunes\n",
      "Día: Martes\n",
      "Día: Miercoles\n",
      "Día: Jueves\n",
      "Día: Viernes\n",
      "Día: Sabado\n",
      "Día: Domingo\n",
      "Día 0: Lunes\n",
      "Día 1: Martes\n",
      "Día 2: Miercoles\n",
      "Día 3: Jueves\n",
      "Día 4: Viernes\n",
      "Día 5: Sabado\n",
      "Día 6: Domingo\n",
      "Notas de clase: [10, 9.8, 7.2, 8.9, 9.5]\n",
      "Notas de clase: [10, 9.8, 7.2, 8.9]\n",
      "Notas de clase: [10, 9.8, 8.9]\n",
      "Notas de clase: [10, 7.2, 9.8, 8.9]\n",
      "Notas de clase: [7.2, 8.9, 9.8, 10]\n"
     ]
    }
   ],
   "source": [
    "# Las listas son un tipo de dato que nos permite almacenar varios datos en una misma variable, por ejemplo:\n",
    "\n",
    "dias_de_la_semana = [\"Lunes\", \"Martes\", \"Miercoles\", \"Jueves\", \"Viernes\", \"Sabado\", \"Domingo\"]\n",
    "notas_de_clase = [10, 9.8, 7.2, 8.9]\n",
    "\n",
    "# La longitud de una lista es el número de elementos que tiene, y podemos acceder con el operador len() por ejemplo:\n",
    "print(\"Longitud de dias_de_la_semana:\", len(dias_de_la_semana))\n",
    "print(\"Longitud de notas_de_clase:\", len(notas_de_clase))\n",
    "\n",
    "# Para acceder a un elemento de la lista, se utiliza el operador [], por ejemplo:\n",
    "print(\"Primer día de la semana:\", dias_de_la_semana[0])\n",
    "print(\"Segundo día de la semana:\", dias_de_la_semana[1])\n",
    "# Ten en cuenta que los *índices* empiezan en 0, por lo que el primer elemento es el 0, el segundo el 1, etc.\n",
    "# El último elemento de una lista es el len(lista) - 1\n",
    "print(\"Último día de la semana:\", dias_de_la_semana[len(dias_de_la_semana) - 1])\n",
    "\n",
    "# Los bucles for son muy útiles para recorrer listas, por ejemplo:\n",
    "for dia in dias_de_la_semana: # dia toma los valores de la lista dias_de_la_semana, esto se conoce como iterar\n",
    "    print(\"Día:\", dia)\n",
    "\n",
    "# También se puede iterar sobre su índice, por ejemplo:\n",
    "for i in range(len(dias_de_la_semana)):\n",
    "    print(f\"Día {i}: {dias_de_la_semana[i]}\")\n"
   ]
  },
  {
   "cell_type": "code",
   "execution_count": 31,
   "metadata": {},
   "outputs": [
    {
     "name": "stdout",
     "output_type": "stream",
     "text": [
      "Notas de clase: [10, 9.8, 7.2, 8.9, 9.5]\n",
      "Notas de clase: [10, 9.8, 7.2, 8.9]\n",
      "Elemento quitado: 9.5\n",
      "Notas de clase: [10, 9.8, 8.9]\n",
      "Notas de clase: [10, 7.2, 9.8, 8.9]\n",
      "Notas de clase: [7.2, 8.9, 9.8, 10]\n",
      "Notas de clase: [10, 9.8, 8.9, 7.2]\n",
      "Número de 7.2 en notas_de_clase: 2\n",
      "Índice de 7.2 en notas_de_clase: 3\n",
      "Notas de clase copia: [10, 9.8, 8.9, 7.2, 7.2]\n",
      "Notas de clase copia: []\n",
      "¿Está el 10 en notas_de_clase? True\n",
      "¿Está el 10 en notas_de_clase_copia? False\n"
     ]
    }
   ],
   "source": [
    "notas_de_clase = [10, 9.8, 7.2, 8.9]\n",
    "# Con append se pueden añadir elementos a una lista, por ejemplo:\n",
    "notas_de_clase.append(9.5)\n",
    "print(\"Notas de clase:\", notas_de_clase)\n",
    "\n",
    "# Con pop se puede eliminar el último elemento de una lista el cual devuelve, por ejemplo:\n",
    "elemento_quitado = notas_de_clase.pop()\n",
    "print(\"Notas de clase:\", notas_de_clase)\n",
    "print(\"Elemento quitado:\", elemento_quitado)\n",
    "\n",
    "# Con remove se puede eliminar un elemento de una lista, por ejemplo:\n",
    "notas_de_clase.remove(7.2)\n",
    "print(\"Notas de clase:\", notas_de_clase)\n",
    "\n",
    "# Con insert se puede insertar un elemento en una posición determinada, por ejemplo:\n",
    "notas_de_clase.insert(1, 7.2)\n",
    "print(\"Notas de clase:\", notas_de_clase)\n",
    "\n",
    "# Con sort se puede ordenar una lista, por ejemplo:\n",
    "notas_de_clase.sort()\n",
    "print(\"Notas de clase:\", notas_de_clase)\n",
    "\n",
    "# Con reverse se puede invertir el orden de una lista, por ejemplo:\n",
    "notas_de_clase.reverse()\n",
    "print(\"Notas de clase:\", notas_de_clase)\n",
    "\n",
    "# Con count se puede contar el número de veces que aparece un elemento en una lista, por ejemplo:\n",
    "notas_de_clase.append(7.2)\n",
    "print(\"Número de 7.2 en notas_de_clase:\", notas_de_clase.count(7.2))\n",
    "\n",
    "# Con index se puede obtener el índice del primer elemento que encuentra en una lista, por ejemplo:\n",
    "print(\"Índice de 7.2 en notas_de_clase:\", notas_de_clase.index(7.2))\n",
    "\n",
    "# Con copy se puede copiar una lista, por ejemplo:\n",
    "notas_de_clase_copia = notas_de_clase.copy()\n",
    "print(\"Notas de clase copia:\", notas_de_clase_copia)\n",
    "\n",
    "# Con clear se puede vaciar una lista, por ejemplo:\n",
    "notas_de_clase_copia.clear()\n",
    "print(\"Notas de clase copia:\", notas_de_clase_copia)\n",
    "\n",
    "# Con el operador in se puede comprobar si un elemento está en una lista, por ejemplo:\n",
    "print(\"¿Está el 10 en notas_de_clase?\", 10 in notas_de_clase)\n",
    "print(\"¿Está el 10 en notas_de_clase_copia?\", 10 in notas_de_clase_copia)\n"
   ]
  },
  {
   "cell_type": "code",
   "execution_count": 19,
   "metadata": {},
   "outputs": [
    {
     "name": "stdout",
     "output_type": "stream",
     "text": [
      "Lista original: [59, 95, 43, 77, 60, 25, 35, 53, 38, 82, 17, 44, 20, 40, 19, 73, 67, 78, 77, 94]\n"
     ]
    }
   ],
   "source": [
    "import random\n",
    "# Juega un poco con las listas, por ejemplo:\n",
    "# Haz la media de las notas de clase, empleando para ello un bucle for\n",
    "notas_de_clase = [10, 9.8, 7.2, 8.9]\n",
    "\n",
    "numeros = [random.randint(0,100) for _ in range(20)] # Esto es una list comprehension, que es una forma de crear listas de forma rápida\n",
    "print(\"Lista original:\", numeros)\n",
    "# Haz un bucle while que imprima solamente los números pares de la lista numeros\n",
    "\n",
    "# Haz un bucle for que imprima solamente los números que sean divisibles entre 3 de la lista numeros\n",
    "\n",
    "# Haz un bucle for que imprima solamente los números con índice par de la lista numeros\n"
   ]
  }
 ],
 "metadata": {
  "kernelspec": {
   "display_name": "Python 3",
   "language": "python",
   "name": "python3"
  },
  "language_info": {
   "codemirror_mode": {
    "name": "ipython",
    "version": 3
   },
   "file_extension": ".py",
   "mimetype": "text/x-python",
   "name": "python",
   "nbconvert_exporter": "python",
   "pygments_lexer": "ipython3",
   "version": "3.10.12"
  }
 },
 "nbformat": 4,
 "nbformat_minor": 2
}
