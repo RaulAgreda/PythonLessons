{
 "cells": [
  {
   "cell_type": "code",
   "execution_count": 3,
   "metadata": {},
   "outputs": [
    {
     "name": "stdout",
     "output_type": "stream",
     "text": [
      "lista a: [1, 2, 3, 4]\n",
      "lista b: [1, 2, 3, 4]\n",
      "------------------\n",
      "lista a: [5, 2, 3, 4]\n",
      "lista b: [5, 2, 3, 4]\n",
      "------------------\n",
      "lista a: [5, 2, 3, 4]\n",
      "lista c: [6, 2, 3, 4]\n"
     ]
    }
   ],
   "source": [
    "a = [1, 2, 3, 4]\n",
    "b = a\n",
    "\n",
    "print(\"lista a:\", a)\n",
    "print(\"lista b:\", b)\n",
    "print(\"------------------\")\n",
    "# En este punto, a y b son la MISMA lista, es decir si ahora modificamos b\n",
    "b[0] = 5\n",
    "print(\"lista a:\", a)\n",
    "print(\"lista b:\", b)\n",
    "# Vemos que se han cambiado las dos listas\n",
    "print(\"------------------\")\n",
    "# Para evitar esto, podemos usar el método copy()\n",
    "c = a.copy()\n",
    "c[0] = 6\n",
    "print(\"lista a:\", a)\n",
    "print(\"lista c:\", c)"
   ]
  }
 ],
 "metadata": {
  "kernelspec": {
   "display_name": "Python 3",
   "language": "python",
   "name": "python3"
  },
  "language_info": {
   "codemirror_mode": {
    "name": "ipython",
    "version": 3
   },
   "file_extension": ".py",
   "mimetype": "text/x-python",
   "name": "python",
   "nbconvert_exporter": "python",
   "pygments_lexer": "ipython3",
   "version": "3.10.12"
  }
 },
 "nbformat": 4,
 "nbformat_minor": 2
}
