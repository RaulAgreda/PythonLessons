{
 "cells": [
  {
   "cell_type": "markdown",
   "metadata": {},
   "source": [
    "# Objetos\n",
    "\n",
    "La programación orientada a objetos básicamente es una forma de programar que nos permite estructurar los programas de una forma más natural.\n",
    "\n",
    "En la vida real, un objeto es una cosa que tiene un estado y una serie de comportamientos asociados. Por ejemplo, un coche tiene un estado (color, marca, potencia, etc.) y una serie de comportamientos (acelerar, frenar, girar, etc.).\n",
    "\n",
    "* Al concepto de coche le llamamos __clase__.\n",
    "* Al estado del coche le llamamos __atributos__.\n",
    "* A los comportamientos del coche (acelerar, frenar, girar, etc.) le llamamos __métodos__ (igual que las funciones pero que pertenecen a una determinada clase).\n",
    "\n",
    "Luego un objeto es una __instancia__ de una clase. Por ejemplo, un coche concreto (mi coche) es una instancia de la clase coche.\n",
    "Mi coche y tu coche son objetos (instancias).\n"
   ]
  },
  {
   "cell_type": "code",
   "execution_count": 1,
   "metadata": {},
   "outputs": [
    {
     "name": "stdout",
     "output_type": "stream",
     "text": [
      "Mi coche es un Audi A4 de color Azul\n",
      "Tu coche es un Ferrari F40 de color Rojo\n"
     ]
    }
   ],
   "source": [
    "# Definimos una clase de la siguiente manera:\n",
    "\n",
    "class Coche:\n",
    "    # A este método se le llama constructor, y es donde se inicializan los atributos de la clase\n",
    "    def __init__(self):\n",
    "        self.color = \"Rojo\"\n",
    "        self.marca = \"Ferrari\"\n",
    "        self.modelo = \"F40\"\n",
    "        self.velocidad = 0\n",
    "        self.potencia = 500\n",
    "\n",
    "# Para crear un objeto de la clase Coche, hacemos lo siguiente:\n",
    "mi_coche = Coche()\n",
    "tu_coche = Coche()\n",
    "# Podemos acceder a los atributos de la clase de la siguiente manera:\n",
    "mi_coche.color = \"Azul\"\n",
    "mi_coche.marca = \"Audi\"\n",
    "mi_coche.modelo = \"A4\"\n",
    "print(f\"Mi coche es un {mi_coche.marca} {mi_coche.modelo} de color {mi_coche.color}\")\n",
    "print(f\"Tu coche es un {tu_coche.marca} {tu_coche.modelo} de color {tu_coche.color}\")"
   ]
  },
  {
   "cell_type": "markdown",
   "metadata": {},
   "source": [
    "Hay una forma más rápida de inicializar un objeto, y es aprovechando el método constructor de la clase. El método constructor es un método especial que se llama automáticamente cuando se crea un objeto. En Python se define con el nombre __init__."
   ]
  },
  {
   "cell_type": "code",
   "execution_count": 3,
   "metadata": {},
   "outputs": [
    {
     "name": "stdout",
     "output_type": "stream",
     "text": [
      "Mi coche es un Audi A4 de color Azul con 150 CV\n",
      "Tu coche es un Seat Ibiza de color Verde con 100 CV\n"
     ]
    }
   ],
   "source": [
    "class Coche:\n",
    "    def __init__(self, marca, modelo, color, potencia):\n",
    "        self.marca = marca\n",
    "        self.modelo = modelo\n",
    "        self.color = color\n",
    "        self.potencia = potencia\n",
    "        self.velocidad = 0 # Por defecto, el coche está parado\n",
    "\n",
    "# De esta manera, tendremos que pasarle los parámetros al constructor para inicializar los atributos\n",
    "mi_coche = Coche(\"Azul\", \"Audi\", \"A4\", 150)\n",
    "tu_coche = Coche(\"Verde\", \"Seat\", \"Ibiza\", 100)\n",
    "# Fíjate que el atributo self no se pasa como parámetro, ya que se inicializa automáticamente\n",
    "print(f\"Mi coche es un {mi_coche.marca} {mi_coche.modelo} de color {mi_coche.color} con {mi_coche.potencia} CV\")\n",
    "print(f\"Tu coche es un {tu_coche.marca} {tu_coche.modelo} de color {tu_coche.color} con {tu_coche.potencia} CV\")"
   ]
  },
  {
   "cell_type": "markdown",
   "metadata": {},
   "source": [
    "La palabra self, que se utiliza en el método __init__ y en todos los métodos, hace referencia al objeto en sí mismo. Es decir, cuando se crea un objeto, self hace referencia a ese objeto. Cuando se llama a un método, self hace referencia al objeto que ha llamado al método. Vamos a ver cómo difinir un nuevo método para la clase Coche."
   ]
  },
  {
   "cell_type": "code",
   "execution_count": 6,
   "metadata": {},
   "outputs": [
    {
     "name": "stdout",
     "output_type": "stream",
     "text": [
      "La velocidad de mi coche es 50 km/h\n",
      "La velocidad de tu coche es 25 km/h\n",
      "--------------------\n",
      "La velocidad de mi coche es 25 km/h\n",
      "La velocidad de tu coche es 15 km/h\n"
     ]
    }
   ],
   "source": [
    "class Coche:\n",
    "    def __init__(self, marca, modelo, color, potencia):\n",
    "        self.marca = marca\n",
    "        self.modelo = modelo\n",
    "        self.color = color\n",
    "        self.potencia = potencia\n",
    "        self.velocidad = 0 # Por defecto, el coche está parado\n",
    "\n",
    "    # Definimos un método para acelerar\n",
    "    def acelerar(self, velocidad):\n",
    "        self.velocidad += velocidad\n",
    "\n",
    "    # Definimos un método para frenar\n",
    "    def frenar(self, velocidad):\n",
    "        self.velocidad -= velocidad\n",
    "\n",
    "mi_coche = Coche(\"Azul\", \"Audi\", \"A4\", 150)\n",
    "tu_coche = Coche(\"Verde\", \"Seat\", \"Ibiza\", 100)\n",
    "mi_coche.acelerar(50)\n",
    "tu_coche.acelerar(25)\n",
    "print(f\"La velocidad de mi coche es {mi_coche.velocidad} km/h\")\n",
    "print(f\"La velocidad de tu coche es {tu_coche.velocidad} km/h\")\n",
    "print(\"--------------------\")\n",
    "mi_coche.frenar(25)\n",
    "tu_coche.frenar(10)\n",
    "print(f\"La velocidad de mi coche es {mi_coche.velocidad} km/h\")\n",
    "print(f\"La velocidad de tu coche es {tu_coche.velocidad} km/h\")\n",
    "# Como ves el atributo self hace referencia a cada objeto en concreto, por lo que si aceleramos o frenamos un coche, no afecta al otro"
   ]
  }
 ],
 "metadata": {
  "kernelspec": {
   "display_name": "Python 3",
   "language": "python",
   "name": "python3"
  },
  "language_info": {
   "codemirror_mode": {
    "name": "ipython",
    "version": 3
   },
   "file_extension": ".py",
   "mimetype": "text/x-python",
   "name": "python",
   "nbconvert_exporter": "python",
   "pygments_lexer": "ipython3",
   "version": "3.10.12"
  }
 },
 "nbformat": 4,
 "nbformat_minor": 2
}
